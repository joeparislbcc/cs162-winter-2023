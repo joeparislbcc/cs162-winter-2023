{
 "cells": [
  {
   "attachments": {},
   "cell_type": "markdown",
   "metadata": {},
   "source": [
    "# Abstract Base Classes (ABC)"
   ]
  },
  {
   "cell_type": "code",
   "execution_count": null,
   "metadata": {},
   "outputs": [],
   "source": [
    "class Shape:\n",
    "    def area(self):pass\n",
    "    def perimeter(self): pass\n",
    "\n",
    "class Square(Shape):\n",
    "    def __init__(self, side):\n",
    "        self.__side = side"
   ]
  },
  {
   "attachments": {},
   "cell_type": "markdown",
   "metadata": {},
   "source": [
    "`Shape` is meant only to act as a *template* for `Square` (and other related classes) and to define the functionality of those derived classes. However, we have two problems:\n",
    "\n",
    "1. You can instantiate an instance of `Shape`\n",
    "2. `Square` extends `Shape` but does not implement `area()` or `perimeter()`"
   ]
  },
  {
   "cell_type": "code",
   "execution_count": null,
   "metadata": {},
   "outputs": [],
   "source": [
    "shape = Shape()  # this is valid code"
   ]
  },
  {
   "cell_type": "code",
   "execution_count": null,
   "metadata": {},
   "outputs": [],
   "source": [
    "square = Square(10)  # also valid code"
   ]
  },
  {
   "attachments": {},
   "cell_type": "markdown",
   "metadata": {},
   "source": [
    "We'd like to prevent both of those examples from being possible. This is where an **abstract base class** (ABC) comes in handy.\n",
    "\n",
    "An ABC provides a way of defining a class that is meant only to serve as a base class for other, derived types. It defines the functionality that any derived class *must* implement. You cannot directly create a concrete instance of an ABC.\n",
    "\n",
    "Python doesn't have a built-in mechanism for creating ABCs but it does offer the `ABC` module in the standard library."
   ]
  },
  {
   "cell_type": "code",
   "execution_count": null,
   "metadata": {},
   "outputs": [],
   "source": [
    "from abc import ABC, abstractmethod\n",
    "\n",
    "class Shape(ABC):\n",
    "    @abstractmethod\n",
    "    def area(self): pass\n",
    "    @abstractmethod\n",
    "    def perimeter(self): pass\n",
    "\n",
    "class Square(Shape):\n",
    "    def __init__(self, side):\n",
    "        self.__side = side"
   ]
  },
  {
   "attachments": {},
   "cell_type": "markdown",
   "metadata": {},
   "source": [
    "Marking `area()` and `perimeter()` as abstract methods achieves our first goal. We are no longer able to create a concrete instance of `Shape`."
   ]
  },
  {
   "cell_type": "code",
   "execution_count": null,
   "metadata": {},
   "outputs": [],
   "source": [
    "shape = Shape()"
   ]
  },
  {
   "attachments": {},
   "cell_type": "markdown",
   "metadata": {},
   "source": [
    "Next, we must implement `Square.area()` and `Square.perimeter()` in order to be able to instantiate an instance of `Square`."
   ]
  },
  {
   "cell_type": "code",
   "execution_count": null,
   "metadata": {},
   "outputs": [],
   "source": [
    "class Square(Shape):\n",
    "    def __init__(self, side):\n",
    "        self.__side = side\n",
    "\n",
    "    def area(self):\n",
    "        return self.__side ** 2\n",
    "\n",
    "    def perimeter(self):\n",
    "        return 4 * self.__side"
   ]
  },
  {
   "cell_type": "code",
   "execution_count": null,
   "metadata": {},
   "outputs": [],
   "source": [
    "square = Square(10)\n",
    "\n",
    "print(square.area())\n",
    "print(square.perimeter())"
   ]
  },
  {
   "attachments": {},
   "cell_type": "markdown",
   "metadata": {},
   "source": [
    "**Note:** our subclass, `Square` must implement *all* the abstract methods of its super class, `Shape`. \n",
    "\n",
    "There are other, abstract decorators that you may want to use in your base class definitions.\n",
    "\n",
    "* abstractclassmethod\n",
    "* abstractstaticmethod\n",
    "* abstractproperty"
   ]
  },
  {
   "attachments": {},
   "cell_type": "markdown",
   "metadata": {},
   "source": [
    "Bringing it all together"
   ]
  },
  {
   "cell_type": "code",
   "execution_count": null,
   "metadata": {},
   "outputs": [],
   "source": [
    "from abc import ABC, abstractmethod\n",
    "\n",
    "class Shape(ABC):\n",
    "    @abstractmethod\n",
    "    def area(self): pass\n",
    "    \n",
    "    @abstractmethod\n",
    "    def perimeter(self): pass\n",
    "\n",
    "class Square(Shape):\n",
    "    def __init__(self, side):\n",
    "        self.__side = side\n",
    "\n",
    "    def area(self):\n",
    "        return self.__side ** 2\n",
    "\n",
    "    def perimeter(self):\n",
    "        return 4 * self.__side\n",
    "    \n",
    "square = Square(10)\n",
    "\n",
    "print(square.area())\n",
    "print(square.perimeter())"
   ]
  },
  {
   "attachments": {},
   "cell_type": "markdown",
   "metadata": {},
   "source": [
    "Alternatively "
   ]
  },
  {
   "cell_type": "code",
   "execution_count": null,
   "metadata": {},
   "outputs": [],
   "source": [
    "from abc import ABCMeta, abstractmethod\n",
    "\n",
    "class Shape(metaclass=ABCMeta):\n",
    "    @abstractmethod\n",
    "    def area(self): pass\n",
    "    \n",
    "    @abstractmethod\n",
    "    def perimeter(self): pass\n",
    "\n",
    "class Square(Shape):\n",
    "    def __init__(self, side):\n",
    "        self.__side = side\n",
    "\n",
    "    def area(self):\n",
    "        return self.__side ** 2\n",
    "\n",
    "    def perimeter(self):\n",
    "        return 4 * self.__side\n",
    "    \n",
    "square = Square(10)\n",
    "\n",
    "print(square.area())\n",
    "print(square.perimeter())"
   ]
  },
  {
   "attachments": {},
   "cell_type": "markdown",
   "metadata": {},
   "source": [
    "Metaclasses are a bit too much to get into in this class. If you want to know more, see [https://youtu.be/yWzMiaqnpkI]([https://](https://youtu.be/yWzMiaqnpkI)).\n",
    "\n",
    "For now it is enough to know that inheriting from `abc.ABC` is a shorthand for passing `metaclass=abc.ABCMeta`"
   ]
  }
 ],
 "metadata": {
  "kernelspec": {
   "display_name": "Python 3",
   "language": "python",
   "name": "python3"
  },
  "language_info": {
   "codemirror_mode": {
    "name": "ipython",
    "version": 3
   },
   "file_extension": ".py",
   "mimetype": "text/x-python",
   "name": "python",
   "nbconvert_exporter": "python",
   "pygments_lexer": "ipython3",
   "version": "3.11.0 (main, Oct 31 2022, 15:58:28) [GCC 11.3.0]"
  },
  "orig_nbformat": 4,
  "vscode": {
   "interpreter": {
    "hash": "b7e8686de6fab24adeb8c1dfac4dd214a7edb6e7718bc67d169f1135b5d0869a"
   }
  }
 },
 "nbformat": 4,
 "nbformat_minor": 2
}
